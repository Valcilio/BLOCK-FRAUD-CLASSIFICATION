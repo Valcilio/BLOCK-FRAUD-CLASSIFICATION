{
  "nbformat": 4,
  "nbformat_minor": 0,
  "metadata": {
    "colab": {
      "name": "Convertendo.ipynb",
      "provenance": []
    },
    "hide_input": false,
    "kernelspec": {
      "display_name": "Python 3",
      "language": "python",
      "name": "python3"
    },
    "language_info": {
      "codemirror_mode": {
        "name": "ipython",
        "version": 3
      },
      "file_extension": ".py",
      "mimetype": "text/x-python",
      "name": "python",
      "nbconvert_exporter": "python",
      "pygments_lexer": "ipython3",
      "version": "3.8.5"
    },
    "varInspector": {
      "cols": {
        "lenName": 16,
        "lenType": 16,
        "lenVar": 40
      },
      "kernels_config": {
        "python": {
          "delete_cmd_postfix": "",
          "delete_cmd_prefix": "del ",
          "library": "var_list.py",
          "varRefreshCmd": "print(var_dic_list())"
        },
        "r": {
          "delete_cmd_postfix": ") ",
          "delete_cmd_prefix": "rm(",
          "library": "var_list.r",
          "varRefreshCmd": "cat(var_dic_list()) "
        }
      },
      "types_to_exclude": [
        "module",
        "function",
        "builtin_function_or_method",
        "instance",
        "_Feature"
      ],
      "window_display": false
    }
  },
  "cells": [
    {
      "cell_type": "markdown",
      "metadata": {
        "id": "Zw7WWHH9rVO_"
      },
      "source": [
        "# Special Step - Converting To Date"
      ]
    },
    {
      "cell_type": "markdown",
      "metadata": {
        "id": "mw6YU7MDsOqU"
      },
      "source": [
        "## 1.0. Imported Libraries"
      ]
    },
    {
      "cell_type": "code",
      "metadata": {
        "id": "B_SNWOFOLtwP"
      },
      "source": [
        "import pandas as pd\n",
        "import pickle as pkl"
      ],
      "execution_count": null,
      "outputs": []
    },
    {
      "cell_type": "markdown",
      "metadata": {
        "id": "3cu4-wFZsTg1"
      },
      "source": [
        "## 2.0. Loading Data"
      ]
    },
    {
      "cell_type": "code",
      "metadata": {
        "id": "rbr2QlGdOM3v"
      },
      "source": [
        "df_sample = pd.read_csv('financial_tuned_complete.csv') #sampled archive"
      ],
      "execution_count": null,
      "outputs": []
    },
    {
      "cell_type": "code",
      "metadata": {
        "id": "zwv-cDokPJPR"
      },
      "source": [
        "df_sample = df_sample.drop('Unnamed: 0', axis=1) #droping unmed columns"
      ],
      "execution_count": null,
      "outputs": []
    },
    {
      "cell_type": "markdown",
      "metadata": {
        "id": "Wh0AAjHsssnI"
      },
      "source": [
        "## 3.0. Analyzing The Data"
      ]
    },
    {
      "cell_type": "code",
      "metadata": {
        "colab": {
          "base_uri": "https://localhost:8080/",
          "height": 379
        },
        "id": "mQCgAQIKPMOR",
        "outputId": "e76f128d-5e5d-4715-b743-eb74e5904bc7"
      },
      "source": [
        "df_sample.shape"
      ],
      "execution_count": null,
      "outputs": [
        {
          "output_type": "execute_result",
          "data": {
            "text/plain": [
              "(197475, 12)"
            ]
          },
          "metadata": {
            "tags": []
          },
          "execution_count": 14
        }
      ]
    },
    {
      "cell_type": "code",
      "metadata": {
        "colab": {
          "base_uri": "https://localhost:8080/"
        },
        "id": "ZdFlKzjiRilV",
        "outputId": "aa7b78bb-693f-4eaf-df0c-05c8edbd9145"
      },
      "source": [
        "#df_sample['step'] = df_sample['step'].astype(str)\n",
        "df_sample.dtypes"
      ],
      "execution_count": null,
      "outputs": [
        {
          "output_type": "execute_result",
          "data": {
            "text/plain": [
              "step                int64\n",
              "type               object\n",
              "amount            float64\n",
              "nameOrig           object\n",
              "oldbalanceOrg     float64\n",
              "newbalanceOrig    float64\n",
              "nameDest           object\n",
              "oldbalanceDest    float64\n",
              "newbalanceDest    float64\n",
              "isFraud             int64\n",
              "isFlaggedFraud      int64\n",
              "date              float64\n",
              "dtype: object"
            ]
          },
          "metadata": {
            "tags": []
          },
          "execution_count": 15
        }
      ]
    },
    {
      "cell_type": "markdown",
      "metadata": {
        "id": "JNM8bmF3s0XM"
      },
      "source": [
        "## 4.0. Creating New Data Column"
      ]
    },
    {
      "cell_type": "code",
      "metadata": {
        "id": "V8v7ChmzPk9x"
      },
      "source": [
        "for i in range(len(df_sample)):\n",
        "        \n",
        "    if (df_sample.loc[i, 'step'] > 0) & (df_sample.loc[i, 'step'] < 10):\n",
        "        df_sample.loc[i, 'date'] = '20170301T0' + ((df_sample.loc[i, 'step']).astype(str)) + '0000'\n",
        "\n",
        "    elif (df_sample.loc[i, 'step'] > 10) & (df_sample.loc[i, 'step'] < 24):\n",
        "        df_sample.loc[i, 'date'] = '20170301T0' + ((df_sample.loc[i, 'step']).astype(str)) + '0000'\n",
        "\n",
        "    elif (df_sample.loc[i, 'step'] > 24) & (df_sample.loc[i, 'step'] < 48):\n",
        "        df_sample.loc[i, 'date'] = '20170302T0' + ((df_sample.loc[i, 'step'] - 24).astype(str)) + '0000'\n",
        "\n",
        "    elif (df_sample.loc[i, 'step'] > 48) & (df_sample.loc[i, 'step'] < 72):\n",
        "        df_sample.loc[i, 'date'] = '20170303T0' + ((df_sample.loc[i, 'step'] - 48).astype(str)) + '0000'\n",
        "\n",
        "    elif (df_sample.loc[i, 'step'] > 72) & (df_sample.loc[i, 'step'] < 96):\n",
        "        df_sample.loc[i, 'date'] = '20170304T0' + ((df_sample.loc[i, 'step'] - 72).astype(str)) + '0000'\n",
        "\n",
        "    elif (df_sample.loc[i, 'step'] > 96) & (df_sample.loc[i, 'step'] < 120):\n",
        "        df_sample.loc[i, 'date'] = '20170305T0' + ((df_sample.loc[i, 'step'] - 96).astype(str)) + '0000'\n",
        "\n",
        "    elif (df_sample.loc[i, 'step'] > 120) & (df_sample.loc[i, 'step'] < 144):\n",
        "        df_sample.loc[i, 'date'] = '20170306T0' + ((df_sample.loc[i, 'step'] - 120).astype(str)) + '0000'\n",
        "\n",
        "    elif (df_sample.loc[i, 'step'] > 144) & (df_sample.loc[i, 'step'] < 168):\n",
        "        df_sample.loc[i, 'date'] = '20170307T0' + ((df_sample.loc[i, 'step'] - 144).astype(str)) + '0000'\n",
        "\n",
        "    elif (df_sample.loc[i, 'step'] > 168) & (df_sample.loc[i, 'step'] < 192):\n",
        "        df_sample.loc[i, 'date'] = '20170308T0' + ((df_sample.loc[i, 'step'] - 168).astype(str)) + '0000'\n",
        "\n",
        "    elif (df_sample.loc[i, 'step'] > 192) & (df_sample.loc[i, 'step'] < 216):\n",
        "        df_sample.loc[i, 'date'] = '20170309T0' + ((df_sample.loc[i, 'step'] - 192).astype(str)) + '0000'\n",
        "\n",
        "    elif (df_sample.loc[i, 'step'] > 216) & (df_sample.loc[i, 'step'] < 240):\n",
        "        df_sample.loc[i, 'date'] = '20170310T0' + ((df_sample.loc[i, 'step'] - 216).astype(str)) + '0000'\n",
        "\n",
        "    elif (df_sample.loc[i, 'step'] > 240) & (df_sample.loc[i, 'step'] < 288):\n",
        "        df_sample.loc[i, 'date'] = '20170311T0' + ((df_sample.loc[i, 'step'] - 264).astype(str)) + '0000'\n",
        "\n",
        "    elif (df_sample.loc[i, 'step'] > 288) & (df_sample.loc[i, 'step'] < 312):\n",
        "        df_sample.loc[i, 'date'] = '20170312T0' + ((df_sample.loc[i, 'step'] - 288).astype(str)) + '0000'\n",
        "\n",
        "    elif (df_sample.loc[i, 'step'] > 312) & (df_sample.loc[i, 'step'] < 336):\n",
        "        df_sample.loc[i, 'date'] = '20170313T0' + ((df_sample.loc[i, 'step'] - 312).astype(str)) + '0000'\n",
        "\n",
        "    elif (df_sample.loc[i, 'step'] > 336) & (df_sample.loc[i, 'step'] < 360):\n",
        "        df_sample.loc[i, 'date'] = '20170314T0' + ((df_sample.loc[i, 'step'] - 336).astype(str)) + '0000'\n",
        "\n",
        "    elif (df_sample.loc[i, 'step'] > 360) & (df_sample.loc[i, 'step'] < 384):\n",
        "        df_sample.loc[i, 'date'] = '20170315T0' + ((df_sample.loc[i, 'step'] - 360).astype(str)) + '0000'\n",
        "\n",
        "    elif (df_sample.loc[i, 'step'] > 384) & (df_sample.loc[i, 'step'] < 408):\n",
        "        df_sample.loc[i, 'date'] = '20170316T0' + ((df_sample.loc[i, 'step'] - 384).astype(str)) + '0000'\n",
        "\n",
        "    elif (df_sample.loc[i, 'step'] > 408) & (df_sample.loc[i, 'step'] < 432):\n",
        "        df_sample.loc[i, 'date'] = '20170317T0' + ((df_sample.loc[i, 'step'] - 408).astype(str)) + '0000'\n",
        "\n",
        "    elif (df_sample.loc[i, 'step'] > 432) & (df_sample.loc[i, 'step'] < 456):\n",
        "        df_sample.loc[i, 'date'] = '20170318T0' + ((df_sample.loc[i, 'step'] - 432).astype(str)) + '0000'\n",
        "\n",
        "    elif (df_sample.loc[i, 'step'] > 456) & (df_sample.loc[i, 'step'] < 480):\n",
        "        df_sample.loc[i, 'date'] = '20170319T0' + ((df_sample.loc[i, 'step'] - 456).astype(str)) + '0000'\n",
        "\n",
        "    elif (df_sample.loc[i, 'step'] > 480) & (df_sample.loc[i, 'step'] < 504):\n",
        "        df_sample.loc[i, 'date'] = '20170320T0' + ((df_sample.loc[i, 'step'] - 480).astype(str)) + '0000'\n",
        "\n",
        "    elif (df_sample.loc[i, 'step'] > 504) & (df_sample.loc[i, 'step'] < 528):\n",
        "        df_sample.loc[i, 'date'] = '20170321T0' + ((df_sample.loc[i, 'step'] - 504).astype(str)) + '0000'\n",
        "\n",
        "    elif (df_sample.loc[i, 'step'] > 528) & (df_sample.loc[i, 'step'] < 552):\n",
        "        df_sample.loc[i, 'date'] = '20170322T0' + ((df_sample.loc[i, 'step'] - 528).astype(str)) + '0000'\n",
        "\n",
        "    elif (df_sample.loc[i, 'step'] > 552) & (df_sample.loc[i, 'step'] < 576):\n",
        "        df_sample.loc[i, 'date'] = '20170323T0' + ((df_sample.loc[i, 'step'] - 552).astype(str)) + '0000'\n",
        "\n",
        "    elif (df_sample.loc[i, 'step'] > 576) & (df_sample.loc[i, 'step'] < 600):\n",
        "        df_sample.loc[i, 'date'] = '20170324T0' + ((df_sample.loc[i, 'step'] - 576).astype(str)) + '0000'\n",
        "\n",
        "    elif (df_sample.loc[i, 'step'] > 600) & (df_sample.loc[i, 'step'] < 624):\n",
        "        df_sample.loc[i, 'date'] = '20170325T0' + ((df_sample.loc[i, 'step'] - 600).astype(str)) + '0000'\n",
        "\n",
        "    elif (df_sample.loc[i, 'step'] > 624) & (df_sample.loc[i, 'step'] < 648):\n",
        "        df_sample.loc[i, 'date'] = '20170326T0' + ((df_sample.loc[i, 'step'] - 624).astype(str)) + '0000'\n",
        "\n",
        "    elif (df_sample.loc[i, 'step'] > 648) & (df_sample.loc[i, 'step'] < 672):\n",
        "        df_sample.loc[i, 'date'] = '20170327T0' + ((df_sample.loc[i, 'step'] - 648).astype(str)) + '0000'\n",
        "\n",
        "    elif (df_sample.loc[i, 'step'] > 672) & (df_sample.loc[i, 'step'] < 696):\n",
        "        df_sample.loc[i, 'date'] = '20170328T0' + ((df_sample.loc[i, 'step'] - 672).astype(str)) + '0000'\n",
        "\n",
        "    elif (df_sample.loc[i, 'step'] > 696) & (df_sample.loc[i, 'step'] < 720):\n",
        "        df_sample.loc[i, 'date'] = '20170329T0' + ((df_sample.loc[i, 'step'] - 696).astype(str)) + '0000'\n",
        "\n",
        "    elif (df_sample.loc[i, 'step'] > 720) & (df_sample.loc[i, 'step'] < 744):\n",
        "        df_sample.loc[i, 'date'] = '20170330T0' + ((df_sample.loc[i, 'step'] - 720).astype(str)) + '0000'"
      ],
      "execution_count": null,
      "outputs": []
    },
    {
      "cell_type": "markdown",
      "metadata": {
        "id": "GNMpd4sQs-9Z"
      },
      "source": [
        "## 5.0. Correcting The Divergences"
      ]
    },
    {
      "cell_type": "code",
      "metadata": {
        "id": "p0THduK6xXiU"
      },
      "source": [
        "df_sample.to_csv('df_excel.csv')"
      ],
      "execution_count": null,
      "outputs": []
    },
    {
      "cell_type": "markdown",
      "metadata": {
        "id": "Hxq94JQbwB-r"
      },
      "source": [
        "### To solve some divergences in the column was used the excel because the tool offered one more simple and speeder solution in this case.\n",
        "\n",
        "###The corrections was: exclusions of '-' and correct dates (exclusions of extras '0')."
      ]
    },
    {
      "cell_type": "markdown",
      "metadata": {
        "id": "diPb5DJKxQVp"
      },
      "source": [
        "## 6.0. Converting To Date"
      ]
    },
    {
      "cell_type": "code",
      "metadata": {
        "id": "yoNFqcViac2E"
      },
      "source": [
        "df_sample = pd.read_csv('df_excel.csv')"
      ],
      "execution_count": null,
      "outputs": []
    },
    {
      "cell_type": "code",
      "metadata": {
        "id": "iZvVA2IbrIkw"
      },
      "source": [
        "df_sample['date'] = pd.to_datetime(df_sample['date'])\n",
        "df_sample['date'].head(5)"
      ],
      "execution_count": null,
      "outputs": []
    }
  ]
}